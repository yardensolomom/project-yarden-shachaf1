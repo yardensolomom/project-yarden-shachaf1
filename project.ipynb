{
 "cells": [
  {
   "cell_type": "markdown",
   "id": "97c609a9-4111-4609-ae79-71cee864d39b",
   "metadata": {
    "jp-MarkdownHeadingCollapsed": true,
    "tags": []
   },
   "source": [
    "# פרויקט גמר - ניתוח נתונים"
   ]
  },
  {
   "cell_type": "markdown",
   "id": "08fd0ef8-7c8c-43ae-996c-fc97f265f007",
   "metadata": {
    "tags": []
   },
   "source": [
    " # \"speed dating\"- נושא הפרויקט"
   ]
  },
  {
   "cell_type": "markdown",
   "id": "0a190649-d26a-4dd7-8cfe-8c8e6b783095",
   "metadata": {},
   "source": [
    "# קבוצה מספר 21"
   ]
  },
  {
   "cell_type": "markdown",
   "id": "61f9e47a-e444-42c0-b9a5-527e205ae91e",
   "metadata": {},
   "source": [
    "<div> \n",
    "<img src=\"https://www.bonobology.com/wp-content/uploads/2022/12/Speed-dating-1.jpg.webp\" width=\"500px\">\n",
    "</div>"
   ]
  },
  {
   "cell_type": "markdown",
   "id": "e3cfe12f-ee1d-468a-9b44-3bd7c8022aa1",
   "metadata": {
    "jupyter": {
     "source_hidden": true
    },
    "tags": []
   },
   "source": [
    "### :מגישות\n",
    "  ### ירדן סולומון \n",
    " ### שחף אדלר "
   ]
  },
  {
   "cell_type": "markdown",
   "id": "76a7014d-8249-4202-b589-ffcb8c4134c7",
   "metadata": {},
   "source": [
    "### https://www.kaggle.com/datasets/mexwell/speed-dating  : קישור לדאטה"
   ]
  },
  {
   "cell_type": "markdown",
   "id": "6ab74b09-70dc-4e57-8bd1-52253cf10257",
   "metadata": {},
   "source": [
    "### :רקע על הדאטה"
   ]
  },
  {
   "cell_type": "markdown",
   "id": "c9b46495-23cf-41c0-b114-67616a51a3a6",
   "metadata": {},
   "source": [
    "\n",
    "הדאטה שבחרנו נלקח ממחקר שנערך באוניברסיטת קולומביה בין השנים 2002-2004\n",
    "במחקר עקבו אחר מעל 21 ערבי \"ספיד דייטינג\" שנערכו לרווקים משני המינים, בטווח גילים 20-30 שנים\n",
    "\n",
    "לצד נתונים דמוגרפיים(גיל, מגדר, תעסוקה וכו') נאספו נתוני דירוג המשתתפים ע\"י הפרטנרים שנפגשו איתם לפי תכונות (אופי, מראה, משיכה, אנטליגנציה, התאמה וכו'), דירוג כולל של הדייט, האם נפגשו בעבר ודירוג נוסף המתאר האם להערכתם הדירוג הכולל היה הדדי\n",
    "\n",
    "הדירוג מתבצע מ1-10 כאשר הנמוך ביותר הוא 1.\n"
   ]
  },
  {
   "cell_type": "markdown",
   "id": "2177cd62-cccc-4998-b2ae-a85ab95b6a83",
   "metadata": {},
   "source": [
    "# <span style=\"background-color:pink\">:ספריות רלוונטיות</span>\n"
   ]
  },
  {
   "cell_type": "code",
   "execution_count": 1,
   "id": "84ddde5b-e164-4bd4-8fbf-ac72ae9818d4",
   "metadata": {},
   "outputs": [],
   "source": [
    "import pandas as pd\n",
    "import numpy as np\n",
    "import matplotlib.pyplot as plt\n",
    "import seaborn as sns"
   ]
  },
  {
   "cell_type": "code",
   "execution_count": 2,
   "id": "3caf422e-7566-4cd9-8cc1-f7e2e22cc848",
   "metadata": {
    "tags": []
   },
   "outputs": [],
   "source": [
    "url = \"speed_data_data.csv\"\n",
    "dating_df = pd.read_csv(url)"
   ]
  },
  {
   "cell_type": "code",
   "execution_count": 9,
   "id": "b9327d1d-d74b-4bbe-9cce-2a0834feab92",
   "metadata": {},
   "outputs": [
    {
     "data": {
      "text/plain": [
       "0       0\n",
       "1       0\n",
       "2       0\n",
       "3       0\n",
       "4       0\n",
       "       ..\n",
       "8373    1\n",
       "8374    1\n",
       "8375    1\n",
       "8376    1\n",
       "8377    1\n",
       "Name: gender, Length: 8378, dtype: int64"
      ]
     },
     "execution_count": 9,
     "metadata": {},
     "output_type": "execute_result"
    }
   ],
   "source": [
    "dating_df[\"gender\"]"
   ]
  },
  {
   "cell_type": "code",
   "execution_count": null,
   "id": "97c06370-f89f-4536-9646-053af1be6e66",
   "metadata": {},
   "outputs": [],
   "source": []
  },
  {
   "cell_type": "code",
   "execution_count": null,
   "id": "6b98d255-05ef-4165-8cf7-b0185bbdbe82",
   "metadata": {},
   "outputs": [],
   "source": []
  }
 ],
 "metadata": {
  "kernelspec": {
   "display_name": "Python 3 (ipykernel)",
   "language": "python",
   "name": "python3"
  },
  "language_info": {
   "codemirror_mode": {
    "name": "ipython",
    "version": 3
   },
   "file_extension": ".py",
   "mimetype": "text/x-python",
   "name": "python",
   "nbconvert_exporter": "python",
   "pygments_lexer": "ipython3",
   "version": "3.9.12"
  }
 },
 "nbformat": 4,
 "nbformat_minor": 5
}
